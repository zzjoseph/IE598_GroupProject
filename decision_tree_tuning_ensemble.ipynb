{
 "cells": [
  {
   "cell_type": "code",
   "execution_count": 36,
   "metadata": {},
   "outputs": [],
   "source": [
    "from sklearn.preprocessing import Imputer\n",
    "import numpy as np\n",
    "from sklearn import preprocessing\n",
    "from sklearn.cross_validation import train_test_split\n",
    "from sklearn.linear_model import LogisticRegression\n",
    "from sklearn.preprocessing import StandardScaler\n",
    "from sklearn.decomposition import PCA\n",
    "import matplotlib.pyplot as plt\n",
    "from matplotlib.colors import ListedColormap\n",
    "from sklearn.discriminant_analysis import LinearDiscriminantAnalysis as LDA\n",
    "from sklearn.decomposition import KernelPCA\n",
    "from sklearn import datasets,decomposition,manifold\n",
    "from sklearn.linear_model import SGDClassifier\n",
    "from sklearn import metrics\n",
    "import pandas as pd\n",
    "from sklearn.preprocessing import LabelEncoder\n",
    "from sklearn.pipeline import make_pipeline\n",
    "from sklearn.model_selection import StratifiedKFold\n",
    "from sklearn.model_selection import cross_val_score\n",
    "from sklearn.model_selection import learning_curve\n",
    "from sklearn.model_selection import validation_curve\n",
    "from sklearn.model_selection import GridSearchCV\n",
    "from sklearn.svm import SVC\n",
    "from sklearn.tree import DecisionTreeClassifier\n",
    "from sklearn.metrics import confusion_matrix\n",
    "from sklearn.metrics import precision_score, recall_score, f1_score\n",
    "from sklearn.metrics import make_scorer\n",
    "from sklearn.metrics import roc_curve, auc\n",
    "from scipy import interp\n",
    "from sklearn.utils import resample\n",
    "from sklearn.datasets import load_digits\n",
    "from sklearn.model_selection import RandomizedSearchCV\n",
    "from sklearn.metrics import classification_report\n",
    "import scipy\n",
    "from sklearn.ensemble import BaggingClassifier\n",
    "from sklearn.metrics import accuracy_score"
   ]
  },
  {
   "cell_type": "code",
   "execution_count": 44,
   "metadata": {},
   "outputs": [],
   "source": [
    "df = pd.read_csv(\"/Users/Emma/Desktop/IE598 Machine Learning/MLF_GP1_CreditScore.csv\")\n",
    "#df.head"
   ]
  },
  {
   "cell_type": "markdown",
   "metadata": {},
   "source": [
    "feature selection"
   ]
  },
  {
   "cell_type": "code",
   "execution_count": 38,
   "metadata": {},
   "outputs": [
    {
     "name": "stdout",
     "output_type": "stream",
     "text": [
      "(1700, 26) (1700,)\n",
      "(1275, 26) (1275,)\n",
      "       Sales/Revenues  Gross Margin       EBITDA  EBITDA Margin  \\\n",
      "count     1700.000000   1700.000000  1700.000000    1700.000000   \n",
      "mean         0.050378      0.026007     0.068718       0.021074   \n",
      "std          0.161910      0.273768     0.237365       0.189025   \n",
      "min         -0.661715     -0.794722    -0.782254      -0.805153   \n",
      "25%         -0.005693     -0.020028    -0.022640      -0.042771   \n",
      "50%          0.034000      0.003403     0.049482       0.011134   \n",
      "75%          0.083004      0.025595     0.124533       0.060566   \n",
      "max          2.277229      3.202713     3.542425       4.141182   \n",
      "\n",
      "       Net Income Before Extras   Total Debt     Net Debt      LT Debt  \\\n",
      "count               1700.000000  1700.000000  1700.000000  1700.000000   \n",
      "mean                   0.123026     0.822405    -0.419810     1.255168   \n",
      "std                   14.475689    13.317075    28.385702    16.224453   \n",
      "min                 -289.000000    -0.903014  -493.305578    -0.921515   \n",
      "25%                   -0.158478    -0.076316    -0.120725    -0.094767   \n",
      "50%                    0.056627     0.005886    -0.003060    -0.002078   \n",
      "75%                    0.222219     0.136449     0.160251     0.174735   \n",
      "max                  478.280075   281.604237   865.194595   289.388178   \n",
      "\n",
      "           ST Debt         Cash     ...          CFO/Debt          CFO  \\\n",
      "count  1700.000000  1700.000000     ...       1700.000000  1700.000000   \n",
      "mean      3.142797     0.466620     ...         -0.165088    -0.189317   \n",
      "std      51.986550     1.859494     ...          6.277606     5.668669   \n",
      "min      -0.997692    -0.990982     ...       -172.654240  -161.609425   \n",
      "25%      -0.337959    -0.195117     ...         -0.211115    -0.115159   \n",
      "50%       0.043092     0.075820     ...          0.012847     0.046983   \n",
      "75%       0.649475     0.483113     ...          0.251992     0.216432   \n",
      "max    2038.000000    36.980037     ...         15.821709    13.005788   \n",
      "\n",
      "       Interest Coverage  Total Liquidity  Current Liquidity  \\\n",
      "count        1700.000000      1700.000000        1700.000000   \n",
      "mean            0.298785        -0.855714           0.436002   \n",
      "std             5.265291        22.926862           1.904282   \n",
      "min            -0.991976      -502.000000          -0.994141   \n",
      "25%            -0.096996        -0.857013          -0.227327   \n",
      "50%             0.043216        -0.229098           0.040446   \n",
      "75%             0.177340         0.512778           0.416067   \n",
      "max           182.131887       280.138728          34.372455   \n",
      "\n",
      "       Current Liabilities  EPS Before Extras           PE          ROA  \\\n",
      "count          1700.000000        1700.000000  1700.000000  1700.000000   \n",
      "mean              0.072802           0.032196     0.497705     0.019394   \n",
      "std               0.266471           6.151994    12.102502    14.594193   \n",
      "min              -0.684678         -96.250000   -59.795133  -305.462167   \n",
      "25%              -0.072734          -0.152894    -0.293521    -0.208483   \n",
      "50%               0.041785           0.066027    -0.040405    -0.009403   \n",
      "75%               0.161215           0.236046     0.168897     0.156136   \n",
      "max               4.194381         187.000000   381.243282   474.847172   \n",
      "\n",
      "               ROE  \n",
      "count  1700.000000  \n",
      "mean     -0.217604  \n",
      "std      15.389000  \n",
      "min    -373.837267  \n",
      "25%      -0.233955  \n",
      "50%      -0.020392  \n",
      "75%       0.201596  \n",
      "max     343.145356  \n",
      "\n",
      "[8 rows x 26 columns]\n",
      "   Sales/Revenues  Gross Margin    EBITDA  EBITDA Margin  \\\n",
      "0       -0.005496      0.030763  0.018885       0.024515   \n",
      "1       -0.005496      0.030763  0.088716       0.094733   \n",
      "2       -0.007045      0.023159  0.088716       0.096440   \n",
      "3       -0.009396      0.028400  0.088716       0.099046   \n",
      "4       -0.009009      0.027714  0.088716       0.098611   \n",
      "\n",
      "   Net Income Before Extras  Total Debt  Net Debt   LT Debt   ST Debt  \\\n",
      "0                  0.146849   -0.029710 -0.019296 -0.042648  0.049875   \n",
      "1                  0.146849   -0.029710 -0.019296 -0.042648  0.049875   \n",
      "2                  0.108590    0.039410  0.034268  0.009059  0.250371   \n",
      "3                  0.146137    0.030071  0.036938 -0.016964  0.356994   \n",
      "4                  0.123500    0.024224  0.034445 -0.034132  0.461894   \n",
      "\n",
      "       Cash   ...    Interest Coverage  Total Liquidity  Current Liquidity  \\\n",
      "0 -0.133716   ...             0.136748         0.392143          -0.184887   \n",
      "1 -0.133716   ...             0.214657         0.392143          -0.184887   \n",
      "2  0.101315   ...             0.205290         0.483257          -0.017877   \n",
      "3 -0.052606   ...             0.232991         0.996955          -0.122017   \n",
      "4 -0.090869   ...             0.172906         1.711426          -0.161561   \n",
      "\n",
      "   Current Liabilities  EPS Before Extras        PE       ROA       ROE  \\\n",
      "0             0.062781           0.148305  0.100409  0.163266  0.102521   \n",
      "1             0.062781           0.148305 -0.089598  0.163266  0.102521   \n",
      "2             0.121357           0.110656 -0.045142  0.105711  0.103378   \n",
      "3             0.079051           0.151639 -0.008231  0.162421  0.132295   \n",
      "4             0.084319           0.130435  0.015528  0.156427  0.225144   \n",
      "\n",
      "   InvGrd  Rating  \n",
      "0       1      A1  \n",
      "1       1      A1  \n",
      "2       1      A1  \n",
      "3       1      A1  \n",
      "4       1      A1  \n",
      "\n",
      "[5 rows x 28 columns]\n",
      "      Sales/Revenues  Gross Margin    EBITDA  EBITDA Margin  \\\n",
      "1695       -0.099327     -0.010702 -0.127046      -0.030785   \n",
      "1696       -0.116919     -0.009799 -0.155183      -0.043333   \n",
      "1697       -0.099676      0.067595 -0.170022      -0.078134   \n",
      "1698       -0.088853      0.007820 -0.122645      -0.037088   \n",
      "1699       -0.084739     -0.021961 -0.159290      -0.081442   \n",
      "\n",
      "      Net Income Before Extras  Total Debt  Net Debt   LT Debt   ST Debt  \\\n",
      "1695                 -4.349569    0.124830  0.146400  0.008407  0.364676   \n",
      "1696                 -2.937747    0.157873  0.066243  0.084104  0.309846   \n",
      "1697                 -1.960264    0.023226 -0.201398  0.024856  0.020078   \n",
      "1698                 -2.066509    0.067495 -0.011377  0.289219 -0.171802   \n",
      "1699                 -1.953166   -0.043481 -0.285966  0.045902 -0.179549   \n",
      "\n",
      "          Cash   ...    Interest Coverage  Total Liquidity  Current Liquidity  \\\n",
      "1695 -0.028333   ...            -0.190974         0.603271          -0.150779   \n",
      "1696  0.808505   ...            -0.246259         0.007110           0.604043   \n",
      "1697  1.352542   ...            -0.266848        -0.959809           1.227363   \n",
      "1698  0.671224   ...            -0.226685        -0.438389           0.865331   \n",
      "1699  1.987960   ...            -0.219651        -0.977050           2.167547   \n",
      "\n",
      "      Current Liabilities  EPS Before Extras        PE       ROA       ROE  \\\n",
      "1695             0.144187          -4.408257 -1.339781 -4.271318 -5.168673   \n",
      "1696             0.127468          -2.977064 -1.695900 -2.868086 -3.429429   \n",
      "1697             0.056198          -1.955285 -1.919739 -1.876336 -1.940995   \n",
      "1698            -0.104059          -2.059347 -1.462429 -2.027254 -2.059961   \n",
      "1699            -0.056695          -1.948856 -1.918602 -1.952314 -1.758980   \n",
      "\n",
      "      InvGrd  Rating  \n",
      "1695       0    Caa1  \n",
      "1696       0    Caa1  \n",
      "1697       0    Caa1  \n",
      "1698       0    Caa1  \n",
      "1699       0    Caa1  \n",
      "\n",
      "[5 rows x 28 columns]\n"
     ]
    },
    {
     "data": {
      "image/png": "[encoded data removed]",
      "text/plain": [
       "<Figure size 432x288 with 1 Axes>"
      ]
     },
     "metadata": {
      "needs_background": "light"
     },
     "output_type": "display_data"
    },
    {
     "name": "stdout",
     "output_type": "stream",
     "text": [
      "Training accuracy: 0.7694117647058824\n",
      "Test accuracy: 0.7529411764705882\n",
      "Training accuracy: 0.7717647058823529\n",
      "Test accuracy: 0.7576470588235295\n",
      "Training accuracy: 0.7741176470588236\n",
      "Test accuracy: 0.7576470588235295\n"
     ]
    },
    {
     "data": {
      "image/png": "[encoded data removed]",
      "text/plain": [
       "<Figure size 432x288 with 4 Axes>"
      ]
     },
     "metadata": {
      "needs_background": "light"
     },
     "output_type": "display_data"
    }
   ],
   "source": [
    "# Investment grid\n",
    "df.isnull().any()\n",
    "\n",
    "X, y = df.iloc[0:1700,0:26], df.InvGrd\n",
    "\n",
    "print( X.shape, y.shape)\n",
    "\n",
    "X_train, X_test, y_train, y_test = train_test_split(X, y,test_size=0.25, random_state=42)\n",
    "print( X_train.shape, y_train.shape)\n",
    "\n",
    "# Standardize the features\n",
    "\n",
    "#scaler = preprocessing.StandardScaler().fit(X_train)\n",
    "#X_train = scaler.transform(X_train)\n",
    "#X_test = scaler.transform(X_test)\n",
    "\n",
    "sc = StandardScaler()\n",
    "X_train_std = sc.fit_transform(X_train)\n",
    "X_test_std = sc.transform(X_test)\n",
    "\n",
    "\n",
    "#print summary of data frame\n",
    "summary = X.describe()\n",
    "print(summary)\n",
    "\n",
    "print(df.head())\n",
    "print(df.tail())\n",
    "\n",
    "# Principal component analysis in scikit-learn\n",
    "\n",
    "\n",
    "def plot_decision_regions(X, y, classifier, resolution=0.02):\n",
    "\n",
    "    # setup marker generator and color map\n",
    "    markers = ('s', 'x', 'o', '^', 'v')\n",
    "    colors = ('red', 'blue', 'lightgreen', 'gray', 'cyan')\n",
    "    cmap = ListedColormap(colors[:len(np.unique(y))])\n",
    "\n",
    "    # plot the decision surface\n",
    "    x1_min, x1_max = X[:, 0].min() - 1, X[:, 0].max() + 1\n",
    "    x2_min, x2_max = X[:, 1].min() - 1, X[:, 1].max() + 1\n",
    "    xx1, xx2 = np.meshgrid(np.arange(x1_min, x1_max, resolution),\n",
    "                           np.arange(x2_min, x2_max, resolution))\n",
    "    Z = classifier.predict(np.array([xx1.ravel(), xx2.ravel()]).T)\n",
    "    Z = Z.reshape(xx1.shape)\n",
    "    plt.contourf(xx1, xx2, Z, alpha=0.4, cmap=cmap)\n",
    "    plt.xlim(xx1.min(), xx1.max())\n",
    "    plt.ylim(xx2.min(), xx2.max())\n",
    "\n",
    "    # plot class samples\n",
    "    for idx, cl in enumerate(np.unique(y)):\n",
    "        plt.scatter(x=X[y == cl, 0], \n",
    "                    y=X[y == cl, 1],\n",
    "                    alpha=0.6, \n",
    "                    c=cmap(idx),\n",
    "                    edgecolor='black',\n",
    "                    marker=markers[idx], \n",
    "                    label=cl)\n",
    "\n",
    "\n",
    "pca = PCA()\n",
    "X_train_pca = pca.fit_transform(X_train_std)\n",
    "pca.explained_variance_ratio_\n",
    "\n",
    "\n",
    "#\n",
    "#plt.scatter(X_train_pca[:, 0], X_train_pca[:, 1])\n",
    "#plot_decision_regions(X_train_pca, y_train, classifier=lr)\n",
    "#plt.xlabel('PC 1')\n",
    "#plt.ylabel('PC 2')\n",
    "#plt.legend(loc='lower left')\n",
    "#plt.show()\n",
    "\n",
    "\n",
    "pca.explained_variance_ratio_.shape      \n",
    "\n",
    "plt.bar(range(0, 26), pca.explained_variance_ratio_, alpha=0.5, align='center')\n",
    "plt.step(range(0, 26), np.cumsum(pca.explained_variance_ratio_), where='mid')\n",
    "plt.ylabel('Explained variance ratio')\n",
    "plt.xlabel('Principal components')\n",
    "\n",
    "plt.show()\n",
    "\n",
    "\n",
    "\n",
    "\n",
    "\n",
    "pca = PCA(n_components=15)\n",
    "X_train_pca = pca.fit_transform(X_train_std)\n",
    "X_test_pca = pca.transform(X_test_std)\n",
    "\n",
    "lr = LogisticRegression(penalty='l1')\n",
    "lr.fit(X_train_pca,y_train)\n",
    "\n",
    "print('Training accuracy:', lr.score(X_train_pca, y_train))\n",
    "print('Test accuracy:', lr.score(X_test_pca, y_test))\n",
    "\n",
    "#y_train_pred = pca.predict(X_train_pca)\n",
    "#print( metrics.accuracy_score(y_train, y_train_pred) )\n",
    "\n",
    "\n",
    "#feat_labels = df[0:]\n",
    "#\n",
    "#importances = lr.feature_importances_\n",
    "#indices = np.argsort(importances)[::-1]\n",
    "#for f in range(X_train.shape[1]):\n",
    "#    print(\"%2d) %-*s %f\" % (f + 1, 30, feat_labels[indices[f]], importances[indices[f]]))\n",
    "#plt.title('Feature Importance')\n",
    "#plt.bar(range(X_train.shape[1]), importances[indices], align='center')\n",
    "#plt.xticks(range(X_train.shape[1]), feat_labels[indices], rotation=90)\n",
    "#plt.xlim([-1, X_train.shape[1]])\n",
    "#plt.tight_layout()\n",
    "#plt.show()\n",
    "\n",
    "\n",
    "\n",
    "\n",
    "# ## LDA via scikit-learn\n",
    "\n",
    "\n",
    "\n",
    "\n",
    "lda = LDA()\n",
    "X_train_lda = lda.fit_transform(X_train_std, y_train)\n",
    "X_test_lda = lda.transform(X_test_std)\n",
    "\n",
    "#lda.explained_variance_ratio_.shape      \n",
    "#\n",
    "#plt.bar(range(0, 26), lda.explained_variance_ratio_, alpha=0.5, align='center')\n",
    "#plt.step(range(0, 26), np.cumsum(lda.explained_variance_ratio_), where='mid')\n",
    "#plt.ylabel('Explained variance ratio')\n",
    "#plt.xlabel('Principal components')\n",
    "#\n",
    "#plt.show()\n",
    "\n",
    "lr = LogisticRegression()\n",
    "lr = lr.fit(X_train_lda, y_train)\n",
    "print('Training accuracy:', lr.score(X_train_lda, y_train))\n",
    "print('Test accuracy:', lr.score(X_test_lda, y_test))\n",
    "\n",
    "\n",
    "\n",
    "\n",
    "#plot_decision_regions(X_train_lda, y_train, classifier=lr)\n",
    "#plt.xlabel('LD 1')\n",
    "#plt.ylabel('LD 2')\n",
    "#plt.legend(loc='lower left')\n",
    "#plt.tight_layout()\n",
    "#plt.show()\n",
    "#\n",
    "#\n",
    "#plot_decision_regions(X_test_lda, y_test, classifier=lr)\n",
    "#plt.xlabel('LD 1')\n",
    "#plt.ylabel('LD 2')\n",
    "#plt.legend(loc='lower left')\n",
    "#plt.tight_layout()\n",
    "#plt.show()\n",
    "\n",
    "\n",
    "\n",
    "# ## Kernel principal component analysis in scikit-learn\n",
    "\n",
    "kpca = KernelPCA(n_components=15, kernel='sigmoid', gamma=10)\n",
    "X_train_kpca = kpca.fit_transform(X_train_std, y_train)\n",
    "X_test_kpca = kpca.transform(X_test_std)\n",
    "\n",
    "lr = LogisticRegression()\n",
    "lr = lr.fit(X_train_kpca, y_train)\n",
    "print('Training accuracy:', lr.score(X_train_kpca, y_train))\n",
    "print('Test accuracy:', lr.score(X_test_kpca, y_test))\n",
    "\n",
    "\n",
    "\n",
    "decomposition.IncrementalPCA\n",
    "\n",
    "def plot_KPCA(*data):\n",
    "    X,y = data\n",
    "    kernels = ['linear','poly','rbf','sigmoid']\n",
    "    fig = plt.figure()\n",
    "\n",
    "    for i,kernel in enumerate(kernels):\n",
    "        kpca = decomposition.KernelPCA(n_components=15, kernel=kernel)\n",
    "        kpca.fit(X_train)\n",
    "        X_r = kpca.transform(X_train_std)\n",
    "        ax = fig.add_subplot(2, 2, i+1)\n",
    "        for label in np.unique(y):\n",
    "            position = y_train == label\n",
    "            ax.scatter(X_r[position,0],X_r[position,1],label=\"target=%d\"%label)\n",
    "            ax.set_xlabel('x[0]')\n",
    "            ax.set_ylabel('x[1]')\n",
    "            ax.legend(loc='best')\n",
    "            ax.set_title('kernel=%s'% kernel)\n",
    "    plt.suptitle(\"KPCA\")\n",
    "    plt.show()\n",
    "plot_KPCA(X_train, y_train)\n"
   ]
  },
  {
   "cell_type": "code",
   "execution_count": 39,
   "metadata": {},
   "outputs": [
    {
     "name": "stdout",
     "output_type": "stream",
     "text": [
      "Test Accuracy: 0.751\n",
      "Train Accuracy: 1.000\n",
      "Test Accuracy: 0.647\n",
      "Train Accuracy: 1.000\n",
      "Test Accuracy: 0.739\n",
      "Train Accuracy: 1.000\n"
     ]
    }
   ],
   "source": [
    "from sklearn.model_selection import GridSearchCV\n",
    "from sklearn.tree import DecisionTreeClassifier\n",
    "\n",
    "tree = DecisionTreeClassifier(criterion='gini',random_state=1)\n",
    "\n",
    "tree.fit(X_train_pca, y_train)\n",
    "\n",
    "print('Test Accuracy: %.3f' % tree.score(X_test_pca, y_test))\n",
    "print('Train Accuracy: %.3f' % tree.score(X_train_pca, y_train))\n",
    "\n",
    "tree.fit(X_train_lda, y_train)\n",
    "\n",
    "print('Test Accuracy: %.3f' % tree.score(X_test_lda, y_test))\n",
    "print('Train Accuracy: %.3f' % tree.score(X_train_lda, y_train))\n",
    "\n",
    "tree.fit(X_train_kpca, y_train)\n",
    "\n",
    "print('Test Accuracy: %.3f' % tree.score(X_test_kpca, y_test))\n",
    "print('Train Accuracy: %.3f' % tree.score(X_train_kpca, y_train))\n",
    "\n"
   ]
  },
  {
   "cell_type": "code",
   "execution_count": null,
   "metadata": {},
   "outputs": [],
   "source": []
  },
  {
   "cell_type": "code",
   "execution_count": null,
   "metadata": {},
   "outputs": [],
   "source": []
  },
  {
   "cell_type": "markdown",
   "metadata": {},
   "source": [
    "Decision tree classifier"
   ]
  },
  {
   "cell_type": "code",
   "execution_count": 29,
   "metadata": {},
   "outputs": [
    {
     "name": "stdout",
     "output_type": "stream",
     "text": [
      "Test Accuracy: 0.751\n",
      "Train Accuracy: 1.000\n"
     ]
    }
   ],
   "source": [
    "from sklearn.model_selection import GridSearchCV\n",
    "from sklearn.tree import DecisionTreeClassifier\n",
    "\n",
    "tree = DecisionTreeClassifier(criterion='gini',random_state=1)\n",
    "\n",
    "tree.fit(X_train_pca, y_train)\n",
    "\n",
    "print('Test Accuracy: %.3f' % tree.score(X_test_pca, y_test))\n",
    "print('Train Accuracy: %.3f' % tree.score(X_train_pca, y_train))\n"
   ]
  },
  {
   "cell_type": "code",
   "execution_count": 30,
   "metadata": {},
   "outputs": [
    {
     "data": {
      "image/png": "[encoded data removed]",
      "text/plain": [
       "<Figure size 180x180 with 1 Axes>"
      ]
     },
     "metadata": {
      "needs_background": "light"
     },
     "output_type": "display_data"
    }
   ],
   "source": [
    "#confusion matrix\n",
    "from sklearn.metrics import confusion_matrix\n",
    "\n",
    "y_pred = tree.predict(X_test_pca)\n",
    "confmat = confusion_matrix(y_true=y_test, y_pred=y_pred)\n",
    "\n",
    "fig, ax = plt.subplots(figsize=(2.5, 2.5))\n",
    "ax.matshow(confmat, cmap=plt.cm.Blues, alpha=0.3)\n",
    "for i in range(confmat.shape[0]):\n",
    "    for j in range(confmat.shape[1]):\n",
    "        ax.text(x=j, y=i, s=confmat[i, j], va='center', ha='center')\n",
    "\n",
    "plt.xlabel('Predicted label')\n",
    "plt.ylabel('True label')\n",
    "\n",
    "plt.tight_layout()\n",
    "#plt.savefig('images/06_09.png', dpi=300)\n",
    "plt.show()"
   ]
  },
  {
   "cell_type": "code",
   "execution_count": 31,
   "metadata": {},
   "outputs": [
    {
     "name": "stdout",
     "output_type": "stream",
     "text": [
      "0.7749019607843137\n",
      "{'max_depth': 7}\n",
      "Test accuracy: 0.765\n",
      "Train accuracy: 0.896\n"
     ]
    }
   ],
   "source": [
    "param_range = np.arange(1,20)\n",
    "param_grid = {\"max_depth\": param_range}\n",
    "\n",
    "gs = GridSearchCV(estimator=tree,\n",
    "                  param_grid=param_grid,\n",
    "                  scoring='accuracy',\n",
    "                  cv=10,\n",
    "                  n_jobs=-1)\n",
    "\n",
    "gs = gs.fit(X_train_pca, y_train)\n",
    "\n",
    "print(gs.best_score_)\n",
    "print(gs.best_params_)\n",
    "\n",
    "clf = gs.best_estimator_\n",
    "clf.fit(X_train_pca, y_train)\n",
    "\n",
    "print('Test accuracy: %.3f' % clf.score(X_test_pca, y_test))\n",
    "print('Train accuracy: %.3f' % clf.score(X_train_pca, y_train))"
   ]
  },
  {
   "cell_type": "code",
   "execution_count": 32,
   "metadata": {},
   "outputs": [
    {
     "data": {
      "image/png": "[encoded data removed]",
      "text/plain": [
       "<Figure size 432x288 with 1 Axes>"
      ]
     },
     "metadata": {
      "needs_background": "light"
     },
     "output_type": "display_data"
    }
   ],
   "source": [
    "#debug the model\n",
    "import matplotlib.pyplot as plt\n",
    "from sklearn.model_selection import learning_curve\n",
    "\n",
    "tree = DecisionTreeClassifier(criterion='gini',max_depth=7,random_state=1)\n",
    "\n",
    "train_sizes, train_scores, test_scores =\\\n",
    "                learning_curve(estimator=tree,\n",
    "                               X=X_train_pca,\n",
    "                               y=y_train,\n",
    "                               train_sizes=np.linspace(0.1, 1.0, 10),\n",
    "                               cv=10,\n",
    "                               n_jobs=1)\n",
    "\n",
    "train_mean = np.mean(train_scores, axis=1)\n",
    "train_std = np.std(train_scores, axis=1)\n",
    "test_mean = np.mean(test_scores, axis=1)\n",
    "test_std = np.std(test_scores, axis=1)\n",
    "\n",
    "plt.plot(train_sizes, train_mean,\n",
    "         color='blue', marker='o',\n",
    "         markersize=5, label='training accuracy')\n",
    "\n",
    "plt.fill_between(train_sizes,\n",
    "                 train_mean + train_std,\n",
    "                 train_mean - train_std,\n",
    "                 alpha=0.15, color='blue')\n",
    "\n",
    "plt.plot(train_sizes, test_mean,\n",
    "         color='green', linestyle='--',\n",
    "         marker='s', markersize=5,\n",
    "         label='validation accuracy')\n",
    "\n",
    "plt.fill_between(train_sizes,\n",
    "                 test_mean + test_std,\n",
    "                 test_mean - test_std,\n",
    "                 alpha=0.15, color='green')\n",
    "\n",
    "plt.grid()\n",
    "plt.xlabel('Number of training samples')\n",
    "plt.ylabel('Accuracy')\n",
    "plt.legend(loc='lower right')\n",
    "plt.ylim([0.0, 1.03])\n",
    "plt.tight_layout()\n",
    "plt.show()"
   ]
  },
  {
   "cell_type": "code",
   "execution_count": 33,
   "metadata": {},
   "outputs": [
    {
     "name": "stdout",
     "output_type": "stream",
     "text": [
      "10-fold cross validation:\n",
      "\n",
      "Accuracy: 0.76 (+/- 0.01) [Logistic Regression]\n",
      "Accuracy: 0.77 (+/- 0.04) [Decision tree]\n",
      "Accuracy: 0.82 (+/- 0.04) [Kernel SVM]\n"
     ]
    }
   ],
   "source": [
    "#import numpy as np\n",
    "from sklearn.linear_model import LogisticRegression\n",
    "from sklearn.tree import DecisionTreeClassifier\n",
    "from sklearn.neighbors import KNeighborsClassifier \n",
    "from sklearn.pipeline import Pipeline\n",
    "from sklearn.model_selection import cross_val_score\n",
    "\n",
    "clf1 = LogisticRegression(C=15.429399415040077, \n",
    "                          n_jobs=1, penalty='l2',\n",
    "                          solver='lbfgs', \n",
    "                          tol=1e-06)\n",
    "\n",
    "clf2 = DecisionTreeClassifier(max_depth=7,\n",
    "                              criterion='gini',\n",
    "                              random_state=1)\n",
    "\n",
    "clf3 = SVC(kernel=\"rbf\", C=100, gamma=0.1)\n",
    "\n",
    "clf_labels = ['Logistic Regression', 'Decision tree', 'Kernel SVM']\n",
    "\n",
    "print('10-fold cross validation:\\n')\n",
    "for clf, label in zip([clf1, clf2, clf3], clf_labels):\n",
    "    scores = cross_val_score(estimator=clf,\n",
    "                             X=X_train_pca,\n",
    "                             y=y_train,\n",
    "                             cv=10,\n",
    "                             scoring='accuracy')\n",
    "    print(\"Accuracy: %0.2f (+/- %0.2f) [%s]\"\n",
    "          % (scores.mean(), scores.std(), label))"
   ]
  },
  {
   "cell_type": "code",
   "execution_count": 34,
   "metadata": {},
   "outputs": [
    {
     "name": "stdout",
     "output_type": "stream",
     "text": [
      "Accuracy: 0.76 (+/- 0.01) [Logistive Regression]\n",
      "Accuracy: 0.77 (+/- 0.04) [Decision Tree]\n",
      "Accuracy: 0.82 (+/- 0.04) [Kernel SVM]\n"
     ]
    },
    {
     "name": "stderr",
     "output_type": "stream",
     "text": [
      "/anaconda3/lib/python3.6/site-packages/sklearn/preprocessing/label.py:151: DeprecationWarning: The truth value of an empty array is ambiguous. Returning False, but in future this will result in an error. Use `array.size > 0` to check that an array is not empty.\n",
      "  if diff:\n",
      "/anaconda3/lib/python3.6/site-packages/sklearn/preprocessing/label.py:151: DeprecationWarning: The truth value of an empty array is ambiguous. Returning False, but in future this will result in an error. Use `array.size > 0` to check that an array is not empty.\n",
      "  if diff:\n",
      "/anaconda3/lib/python3.6/site-packages/sklearn/preprocessing/label.py:151: DeprecationWarning: The truth value of an empty array is ambiguous. Returning False, but in future this will result in an error. Use `array.size > 0` to check that an array is not empty.\n",
      "  if diff:\n",
      "/anaconda3/lib/python3.6/site-packages/sklearn/preprocessing/label.py:151: DeprecationWarning: The truth value of an empty array is ambiguous. Returning False, but in future this will result in an error. Use `array.size > 0` to check that an array is not empty.\n",
      "  if diff:\n",
      "/anaconda3/lib/python3.6/site-packages/sklearn/preprocessing/label.py:151: DeprecationWarning: The truth value of an empty array is ambiguous. Returning False, but in future this will result in an error. Use `array.size > 0` to check that an array is not empty.\n",
      "  if diff:\n",
      "/anaconda3/lib/python3.6/site-packages/sklearn/preprocessing/label.py:151: DeprecationWarning: The truth value of an empty array is ambiguous. Returning False, but in future this will result in an error. Use `array.size > 0` to check that an array is not empty.\n",
      "  if diff:\n",
      "/anaconda3/lib/python3.6/site-packages/sklearn/preprocessing/label.py:151: DeprecationWarning: The truth value of an empty array is ambiguous. Returning False, but in future this will result in an error. Use `array.size > 0` to check that an array is not empty.\n",
      "  if diff:\n",
      "/anaconda3/lib/python3.6/site-packages/sklearn/preprocessing/label.py:151: DeprecationWarning: The truth value of an empty array is ambiguous. Returning False, but in future this will result in an error. Use `array.size > 0` to check that an array is not empty.\n",
      "  if diff:\n",
      "/anaconda3/lib/python3.6/site-packages/sklearn/preprocessing/label.py:151: DeprecationWarning: The truth value of an empty array is ambiguous. Returning False, but in future this will result in an error. Use `array.size > 0` to check that an array is not empty.\n",
      "  if diff:\n"
     ]
    },
    {
     "name": "stdout",
     "output_type": "stream",
     "text": [
      "Accuracy: 0.80 (+/- 0.03) [Ensemble]\n"
     ]
    },
    {
     "name": "stderr",
     "output_type": "stream",
     "text": [
      "/anaconda3/lib/python3.6/site-packages/sklearn/preprocessing/label.py:151: DeprecationWarning: The truth value of an empty array is ambiguous. Returning False, but in future this will result in an error. Use `array.size > 0` to check that an array is not empty.\n",
      "  if diff:\n"
     ]
    }
   ],
   "source": [
    "# Majority Rule (hard) Voting\n",
    "from sklearn.ensemble import VotingClassifier\n",
    "mv_clf = VotingClassifier(estimators=[('Logistive Regression', clf1),\n",
    "                                      ('Decision Tree', clf2), \n",
    "                                      ('Kernel SVM', clf3)],\n",
    "                                        voting='hard')\n",
    "\n",
    "for clf, label in zip([clf1,clf2,clf3,mv_clf],\n",
    "                      ['Logistive Regression','Decision Tree','Kernel SVM','Ensemble']):\n",
    "    scores = cross_val_score(estimator=clf,\n",
    "                             X=X_train_pca,\n",
    "                             y=y_train,\n",
    "                             cv=10,\n",
    "                             scoring='accuracy')\n",
    "    print(\"Accuracy: %0.2f (+/- %0.2f) [%s]\"\n",
    "          % (scores.mean(), scores.std(), label))"
   ]
  },
  {
   "cell_type": "code",
   "execution_count": 35,
   "metadata": {},
   "outputs": [
    {
     "name": "stderr",
     "output_type": "stream",
     "text": [
      "/anaconda3/lib/python3.6/site-packages/sklearn/preprocessing/label.py:151: DeprecationWarning: The truth value of an empty array is ambiguous. Returning False, but in future this will result in an error. Use `array.size > 0` to check that an array is not empty.\n",
      "  if diff:\n"
     ]
    },
    {
     "data": {
      "text/plain": [
       "0.7905882352941176"
      ]
     },
     "execution_count": 35,
     "metadata": {},
     "output_type": "execute_result"
    }
   ],
   "source": [
    "mv_clf.fit(X_train_pca,y_train)\n",
    "y_pred = mv_clf.predict(X_test_pca)\n",
    "metrics.accuracy_score(y_pred,y_test)"
   ]
  },
  {
   "cell_type": "code",
   "execution_count": 40,
   "metadata": {},
   "outputs": [
    {
     "name": "stdout",
     "output_type": "stream",
     "text": [
      "(1700, 26) (1700,)\n",
      "(1275, 26) (1275,)\n"
     ]
    },
    {
     "data": {
      "image/png": "[encoded data removed]",
      "text/plain": [
       "<Figure size 432x288 with 1 Axes>"
      ]
     },
     "metadata": {
      "needs_background": "light"
     },
     "output_type": "display_data"
    },
    {
     "name": "stdout",
     "output_type": "stream",
     "text": [
      "Training accuracy: 1.0\n",
      "Test accuracy: 0.27058823529411763\n",
      "Training accuracy: 1.0\n",
      "Test accuracy: 0.2564705882352941\n",
      "Training accuracy: 1.0\n",
      "Test accuracy: 0.24941176470588236\n"
     ]
    }
   ],
   "source": [
    "from sklearn.model_selection import GridSearchCV\n",
    "from sklearn.tree import DecisionTreeClassifier\n",
    "\n",
    "# Investment grid\n",
    "df.isnull().any()\n",
    "\n",
    "X, y = df.iloc[0:1700,0:26], df.Rating\n",
    "\n",
    "print( X.shape, y.shape)\n",
    "\n",
    "X_train, X_test, y_train, y_test = train_test_split(X, y,test_size=0.25, random_state=42)\n",
    "print( X_train.shape, y_train.shape)\n",
    "\n",
    "# Standardize the features\n",
    "sc = StandardScaler()\n",
    "X_train_std = sc.fit_transform(X_train)\n",
    "X_test_std = sc.transform(X_test)\n",
    "\n",
    "def plot_decision_regions(X, y, classifier, resolution=0.02):\n",
    "\n",
    "    # setup marker generator and color map\n",
    "    markers = ('s', 'x', 'o', '^', 'v')\n",
    "    colors = ('red', 'blue', 'lightgreen', 'gray', 'cyan')\n",
    "    cmap = ListedColormap(colors[:len(np.unique(y))])\n",
    "\n",
    "    # plot the decision surface\n",
    "    x1_min, x1_max = X[:, 0].min() - 1, X[:, 0].max() + 1\n",
    "    x2_min, x2_max = X[:, 1].min() - 1, X[:, 1].max() + 1\n",
    "    xx1, xx2 = np.meshgrid(np.arange(x1_min, x1_max, resolution),\n",
    "                           np.arange(x2_min, x2_max, resolution))\n",
    "    Z = classifier.predict(np.array([xx1.ravel(), xx2.ravel()]).T)\n",
    "    Z = Z.reshape(xx1.shape)\n",
    "    plt.contourf(xx1, xx2, Z, alpha=0.4, cmap=cmap)\n",
    "    plt.xlim(xx1.min(), xx1.max())\n",
    "    plt.ylim(xx2.min(), xx2.max())\n",
    "\n",
    "    # plot class samples\n",
    "    for idx, cl in enumerate(np.unique(y)):\n",
    "        plt.scatter(x=X[y == cl, 0], \n",
    "                    y=X[y == cl, 1],\n",
    "                    alpha=0.6, \n",
    "                    c=cmap(idx),\n",
    "                    edgecolor='black',\n",
    "                    marker=markers[idx], \n",
    "                    label=cl)\n",
    "\n",
    "\n",
    "pca = PCA()\n",
    "X_train_pca = pca.fit_transform(X_train_std)\n",
    "pca.explained_variance_ratio_\n",
    "\n",
    "\n",
    "#\n",
    "#plt.scatter(X_train_pca[:, 0], X_train_pca[:, 1])\n",
    "#plot_decision_regions(X_train_pca, y_train, classifier=lr)\n",
    "#plt.xlabel('PC 1')\n",
    "#plt.ylabel('PC 2')\n",
    "#plt.legend(loc='lower left')\n",
    "#plt.show()\n",
    "\n",
    "\n",
    "pca.explained_variance_ratio_.shape      \n",
    "\n",
    "plt.bar(range(0, 26), pca.explained_variance_ratio_, alpha=0.5, align='center')\n",
    "plt.step(range(0, 26), np.cumsum(pca.explained_variance_ratio_), where='mid')\n",
    "plt.ylabel('Explained variance ratio')\n",
    "plt.xlabel('Principal components')\n",
    "\n",
    "plt.show()\n",
    "\n",
    "\n",
    "\n",
    "\n",
    "\n",
    "pca = PCA(n_components=15)\n",
    "X_train_pca = pca.fit_transform(X_train_std)\n",
    "X_test_pca = pca.transform(X_test_std)\n",
    "\n",
    "tree = DecisionTreeClassifier(criterion='gini',random_state=1)\n",
    "\n",
    "tree.fit(X_train_pca, y_train)\n",
    "\n",
    "print('Training accuracy:', tree.score(X_train_pca, y_train))\n",
    "print('Test accuracy:', tree.score(X_test_pca, y_test))\n",
    "\n",
    "\n",
    "#feat_labels = df[0:]\n",
    "#\n",
    "#importances = lr.feature_importances_\n",
    "#indices = np.argsort(importances)[::-1]\n",
    "#for f in range(X_train.shape[1]):\n",
    "#    print(\"%2d) %-*s %f\" % (f + 1, 30, feat_labels[indices[f]], importances[indices[f]]))\n",
    "#plt.title('Feature Importance')\n",
    "#plt.bar(range(X_train.shape[1]), importances[indices], align='center')\n",
    "#plt.xticks(range(X_train.shape[1]), feat_labels[indices], rotation=90)\n",
    "#plt.xlim([-1, X_train.shape[1]])\n",
    "#plt.tight_layout()\n",
    "#plt.show()\n",
    "\n",
    "\n",
    "\n",
    "\n",
    "# ## LDA via scikit-learn\n",
    "lda = LDA()\n",
    "X_train_lda = lda.fit_transform(X_train_std, y_train)\n",
    "X_test_lda = lda.transform(X_test_std)\n",
    "\n",
    "#lda.explained_variance_ratio_.shape      \n",
    "#\n",
    "#plt.bar(range(0, 26), lda.explained_variance_ratio_, alpha=0.5, align='center')\n",
    "#plt.step(range(0, 26), np.cumsum(lda.explained_variance_ratio_), where='mid')\n",
    "#plt.ylabel('Explained variance ratio')\n",
    "#plt.xlabel('Principal components')\n",
    "#\n",
    "#plt.show()\n",
    "\n",
    "tree = DecisionTreeClassifier(criterion='gini',random_state=1)\n",
    "tree.fit(X_train_lda, y_train)\n",
    "\n",
    "print('Training accuracy:', tree.score(X_train_lda, y_train))\n",
    "print('Test accuracy:', tree.score(X_test_lda, y_test))\n",
    "\n",
    "\n",
    "\n",
    "\n",
    "\n",
    "#plot_decision_regions(X_train_lda, y_train, classifier=lr)\n",
    "#plt.xlabel('LD 1')\n",
    "#plt.ylabel('LD 2')\n",
    "#plt.legend(loc='lower left')\n",
    "#plt.tight_layout()\n",
    "#plt.show()\n",
    "#\n",
    "#\n",
    "#plot_decision_regions(X_test_lda, y_test, classifier=lr)\n",
    "#plt.xlabel('LD 1')\n",
    "#plt.ylabel('LD 2')\n",
    "#plt.legend(loc='lower left')\n",
    "#plt.tight_layout()\n",
    "#plt.show()\n",
    "\n",
    "\n",
    "\n",
    "# ## Kernel principal component analysis in scikit-learn\n",
    "\n",
    "kpca = KernelPCA(n_components=15, kernel='sigmoid', gamma=10)\n",
    "X_train_kpca = kpca.fit_transform(X_train_std, y_train)\n",
    "X_test_kpca = kpca.transform(X_test_std)\n",
    "\n",
    "tree = DecisionTreeClassifier(criterion='gini',random_state=1)\n",
    "\n",
    "tree.fit(X_train_kpca, y_train)\n",
    "\n",
    "print('Training accuracy:', tree.score(X_train_kpca, y_train))\n",
    "print('Test accuracy:', tree.score(X_test_kpca, y_test))\n",
    "\n",
    "\n"
   ]
  },
  {
   "cell_type": "code",
   "execution_count": 41,
   "metadata": {},
   "outputs": [
    {
     "name": "stdout",
     "output_type": "stream",
     "text": [
      "Test Accuracy: 0.271\n",
      "Train Accuracy: 1.000\n",
      "Test Accuracy: 0.256\n",
      "Train Accuracy: 1.000\n",
      "Test Accuracy: 0.249\n",
      "Train Accuracy: 1.000\n"
     ]
    }
   ],
   "source": [
    "from sklearn.model_selection import GridSearchCV\n",
    "from sklearn.tree import DecisionTreeClassifier\n",
    "\n",
    "tree = DecisionTreeClassifier(criterion='gini',random_state=1)\n",
    "\n",
    "tree.fit(X_train_pca, y_train)\n",
    "\n",
    "print('Test Accuracy: %.3f' % tree.score(X_test_pca, y_test))\n",
    "print('Train Accuracy: %.3f' % tree.score(X_train_pca, y_train))\n",
    "\n",
    "tree.fit(X_train_lda, y_train)\n",
    "\n",
    "print('Test Accuracy: %.3f' % tree.score(X_test_lda, y_test))\n",
    "print('Train Accuracy: %.3f' % tree.score(X_train_lda, y_train))\n",
    "\n",
    "tree.fit(X_train_kpca, y_train)\n",
    "\n",
    "print('Test Accuracy: %.3f' % tree.score(X_test_kpca, y_test))\n",
    "print('Train Accuracy: %.3f' % tree.score(X_train_kpca, y_train))\n",
    "\n"
   ]
  },
  {
   "cell_type": "code",
   "execution_count": 42,
   "metadata": {},
   "outputs": [
    {
     "name": "stdout",
     "output_type": "stream",
     "text": [
      "Test Accuracy: 0.271\n",
      "Train Accuracy: 1.000\n"
     ]
    },
    {
     "data": {
      "image/png": "[encoded data removed]",
      "text/plain": [
       "<Figure size 360x360 with 1 Axes>"
      ]
     },
     "metadata": {
      "needs_background": "light"
     },
     "output_type": "display_data"
    },
    {
     "name": "stderr",
     "output_type": "stream",
     "text": [
      "/anaconda3/lib/python3.6/site-packages/sklearn/model_selection/_split.py:605: Warning: The least populated class in y has only 2 members, which is too few. The minimum number of members in any class cannot be less than n_splits=10.\n",
      "  % (min_groups, self.n_splits)), Warning)\n"
     ]
    },
    {
     "name": "stdout",
     "output_type": "stream",
     "text": [
      "0.2847058823529412\n",
      "{'max_depth': 19}\n",
      "Test accuracy: 0.282\n",
      "Train accuracy: 0.947\n"
     ]
    }
   ],
   "source": [
    "from sklearn.model_selection import GridSearchCV\n",
    "from sklearn.tree import DecisionTreeClassifier\n",
    "\n",
    "tree = DecisionTreeClassifier(criterion='gini',random_state=1)\n",
    "\n",
    "tree.fit(X_train_pca, y_train)\n",
    "\n",
    "print('Test Accuracy: %.3f' % tree.score(X_test_pca, y_test))\n",
    "print('Train Accuracy: %.3f' % tree.score(X_train_pca, y_train))\n",
    "\n",
    "#confusion matrix\n",
    "from sklearn.metrics import confusion_matrix\n",
    "\n",
    "y_pred = tree.predict(X_test_pca)\n",
    "confmat = confusion_matrix(y_true=y_test, y_pred=y_pred)\n",
    "\n",
    "fig, ax = plt.subplots(figsize=(5, 5))\n",
    "ax.matshow(confmat, cmap=plt.cm.Blues, alpha=0.3)\n",
    "for i in range(confmat.shape[0]):\n",
    "    for j in range(confmat.shape[1]):\n",
    "        ax.text(x=j, y=i, s=confmat[i, j], va='center', ha='center')\n",
    "\n",
    "plt.xlabel('Predicted label')\n",
    "plt.ylabel('True label')\n",
    "\n",
    "plt.tight_layout()\n",
    "plt.show()\n",
    "\n",
    "#tuning\n",
    "param_range = np.arange(1,20)\n",
    "param_grid = {\"max_depth\": param_range}\n",
    "\n",
    "gs = GridSearchCV(estimator=tree,\n",
    "                  param_grid=param_grid,\n",
    "                  scoring='accuracy',\n",
    "                  cv=10,\n",
    "                  n_jobs=-1)\n",
    "\n",
    "gs = gs.fit(X_train_pca, y_train)\n",
    "\n",
    "print(gs.best_score_)\n",
    "print(gs.best_params_)\n",
    "\n",
    "clf = gs.best_estimator_\n",
    "clf.fit(X_train_pca, y_train)\n",
    "\n",
    "print('Test accuracy: %.3f' % clf.score(X_test_pca, y_test))\n",
    "print('Train accuracy: %.3f' % clf.score(X_train_pca, y_train))"
   ]
  },
  {
   "cell_type": "code",
   "execution_count": 43,
   "metadata": {},
   "outputs": [
    {
     "name": "stderr",
     "output_type": "stream",
     "text": [
      "/anaconda3/lib/python3.6/site-packages/sklearn/model_selection/_split.py:605: Warning: The least populated class in y has only 2 members, which is too few. The minimum number of members in any class cannot be less than n_splits=10.\n",
      "  % (min_groups, self.n_splits)), Warning)\n"
     ]
    },
    {
     "data": {
      "image/png": "[encoded data removed]",
      "text/plain": [
       "<Figure size 432x288 with 1 Axes>"
      ]
     },
     "metadata": {
      "needs_background": "light"
     },
     "output_type": "display_data"
    }
   ],
   "source": [
    "#debug the model\n",
    "import matplotlib.pyplot as plt\n",
    "from sklearn.model_selection import learning_curve\n",
    "\n",
    "tree = DecisionTreeClassifier(criterion='gini',max_depth=19,random_state=1)\n",
    "\n",
    "train_sizes, train_scores, test_scores =\\\n",
    "                learning_curve(estimator=tree,\n",
    "                               X=X_train_pca,\n",
    "                               y=y_train,\n",
    "                               train_sizes=np.linspace(0.1, 1.0, 10),\n",
    "                               cv=10,\n",
    "                               n_jobs=1)\n",
    "\n",
    "train_mean = np.mean(train_scores, axis=1)\n",
    "train_std = np.std(train_scores, axis=1)\n",
    "test_mean = np.mean(test_scores, axis=1)\n",
    "test_std = np.std(test_scores, axis=1)\n",
    "\n",
    "plt.plot(train_sizes, train_mean,\n",
    "         color='blue', marker='o',\n",
    "         markersize=5, label='training accuracy')\n",
    "\n",
    "plt.fill_between(train_sizes,\n",
    "                 train_mean + train_std,\n",
    "                 train_mean - train_std,\n",
    "                 alpha=0.15, color='blue')\n",
    "\n",
    "plt.plot(train_sizes, test_mean,\n",
    "         color='green', linestyle='--',\n",
    "         marker='s', markersize=5,\n",
    "         label='validation accuracy')\n",
    "\n",
    "plt.fill_between(train_sizes,\n",
    "                 test_mean + test_std,\n",
    "                 test_mean - test_std,\n",
    "                 alpha=0.15, color='green')\n",
    "\n",
    "plt.grid()\n",
    "plt.xlabel('Number of training samples')\n",
    "plt.ylabel('Accuracy')\n",
    "plt.legend(loc='lower right')\n",
    "plt.ylim([0.0, 1.03])\n",
    "plt.tight_layout()\n",
    "plt.show()\n"
   ]
  },
  {
   "cell_type": "markdown",
   "metadata": {},
   "source": [
    "ensemble"
   ]
  },
  {
   "cell_type": "code",
   "execution_count": 21,
   "metadata": {},
   "outputs": [
    {
     "name": "stdout",
     "output_type": "stream",
     "text": [
      "10-fold cross validation:\n",
      "\n",
      "Accuracy: 0.41 (+/- 0.04) [KNN]\n"
     ]
    },
    {
     "name": "stderr",
     "output_type": "stream",
     "text": [
      "/anaconda3/lib/python3.6/site-packages/sklearn/model_selection/_split.py:605: Warning: The least populated class in y has only 2 members, which is too few. The minimum number of members in any class cannot be less than n_splits=10.\n",
      "  % (min_groups, self.n_splits)), Warning)\n",
      "/anaconda3/lib/python3.6/site-packages/sklearn/model_selection/_split.py:605: Warning: The least populated class in y has only 2 members, which is too few. The minimum number of members in any class cannot be less than n_splits=10.\n",
      "  % (min_groups, self.n_splits)), Warning)\n"
     ]
    },
    {
     "name": "stdout",
     "output_type": "stream",
     "text": [
      "Accuracy: 0.24 (+/- 0.02) [Decision tree]\n"
     ]
    },
    {
     "name": "stderr",
     "output_type": "stream",
     "text": [
      "/anaconda3/lib/python3.6/site-packages/sklearn/model_selection/_split.py:605: Warning: The least populated class in y has only 2 members, which is too few. The minimum number of members in any class cannot be less than n_splits=10.\n",
      "  % (min_groups, self.n_splits)), Warning)\n"
     ]
    },
    {
     "name": "stdout",
     "output_type": "stream",
     "text": [
      "Accuracy: 0.39 (+/- 0.03) [Kernel SVM]\n"
     ]
    }
   ],
   "source": [
    "#import numpy as np\n",
    "from sklearn.linear_model import LogisticRegression\n",
    "from sklearn.tree import DecisionTreeClassifier\n",
    "from sklearn.neighbors import KNeighborsClassifier \n",
    "from sklearn.pipeline import Pipeline\n",
    "from sklearn.model_selection import cross_val_score\n",
    "\n",
    "clf1 = KNeighborsClassifier(n_neighbors=1, \n",
    "                        p=2, \n",
    "                        metric='minkowski',\n",
    "                        algorithm='auto',\n",
    "                        leaf_size=1,\n",
    "                        weights='uniform')\n",
    "\n",
    "clf2 = DecisionTreeClassifier(max_depth=7,\n",
    "                              criterion='gini',\n",
    "                              random_state=1)\n",
    "\n",
    "clf3 = SVC(kernel=\"rbf\", C=100, gamma=1)\n",
    "\n",
    "clf_labels = ['KNN', 'Decision tree', 'Kernel SVM']\n",
    "\n",
    "print('10-fold cross validation:\\n')\n",
    "for clf, label in zip([clf1, clf2, clf3], clf_labels):\n",
    "    scores = cross_val_score(estimator=clf,\n",
    "                             X=X_train_pca,\n",
    "                             y=y_train,\n",
    "                             cv=10,\n",
    "                             scoring='accuracy')\n",
    "    print(\"Accuracy: %0.2f (+/- %0.2f) [%s]\"\n",
    "          % (scores.mean(), scores.std(), label))"
   ]
  },
  {
   "cell_type": "code",
   "execution_count": 22,
   "metadata": {},
   "outputs": [
    {
     "name": "stderr",
     "output_type": "stream",
     "text": [
      "/anaconda3/lib/python3.6/site-packages/sklearn/model_selection/_split.py:605: Warning: The least populated class in y has only 2 members, which is too few. The minimum number of members in any class cannot be less than n_splits=10.\n",
      "  % (min_groups, self.n_splits)), Warning)\n",
      "/anaconda3/lib/python3.6/site-packages/sklearn/model_selection/_split.py:605: Warning: The least populated class in y has only 2 members, which is too few. The minimum number of members in any class cannot be less than n_splits=10.\n",
      "  % (min_groups, self.n_splits)), Warning)\n"
     ]
    },
    {
     "name": "stdout",
     "output_type": "stream",
     "text": [
      "Accuracy: 0.41 (+/- 0.04) [KNN]\n",
      "Accuracy: 0.24 (+/- 0.02) [Decision Tree]\n"
     ]
    },
    {
     "name": "stderr",
     "output_type": "stream",
     "text": [
      "/anaconda3/lib/python3.6/site-packages/sklearn/model_selection/_split.py:605: Warning: The least populated class in y has only 2 members, which is too few. The minimum number of members in any class cannot be less than n_splits=10.\n",
      "  % (min_groups, self.n_splits)), Warning)\n"
     ]
    },
    {
     "name": "stdout",
     "output_type": "stream",
     "text": [
      "Accuracy: 0.39 (+/- 0.03) [Kernel SVM]\n"
     ]
    },
    {
     "name": "stderr",
     "output_type": "stream",
     "text": [
      "/anaconda3/lib/python3.6/site-packages/sklearn/model_selection/_split.py:605: Warning: The least populated class in y has only 2 members, which is too few. The minimum number of members in any class cannot be less than n_splits=10.\n",
      "  % (min_groups, self.n_splits)), Warning)\n",
      "/anaconda3/lib/python3.6/site-packages/sklearn/preprocessing/label.py:151: DeprecationWarning: The truth value of an empty array is ambiguous. Returning False, but in future this will result in an error. Use `array.size > 0` to check that an array is not empty.\n",
      "  if diff:\n",
      "/anaconda3/lib/python3.6/site-packages/sklearn/preprocessing/label.py:151: DeprecationWarning: The truth value of an empty array is ambiguous. Returning False, but in future this will result in an error. Use `array.size > 0` to check that an array is not empty.\n",
      "  if diff:\n",
      "/anaconda3/lib/python3.6/site-packages/sklearn/preprocessing/label.py:151: DeprecationWarning: The truth value of an empty array is ambiguous. Returning False, but in future this will result in an error. Use `array.size > 0` to check that an array is not empty.\n",
      "  if diff:\n",
      "/anaconda3/lib/python3.6/site-packages/sklearn/preprocessing/label.py:151: DeprecationWarning: The truth value of an empty array is ambiguous. Returning False, but in future this will result in an error. Use `array.size > 0` to check that an array is not empty.\n",
      "  if diff:\n",
      "/anaconda3/lib/python3.6/site-packages/sklearn/preprocessing/label.py:151: DeprecationWarning: The truth value of an empty array is ambiguous. Returning False, but in future this will result in an error. Use `array.size > 0` to check that an array is not empty.\n",
      "  if diff:\n",
      "/anaconda3/lib/python3.6/site-packages/sklearn/preprocessing/label.py:151: DeprecationWarning: The truth value of an empty array is ambiguous. Returning False, but in future this will result in an error. Use `array.size > 0` to check that an array is not empty.\n",
      "  if diff:\n",
      "/anaconda3/lib/python3.6/site-packages/sklearn/preprocessing/label.py:151: DeprecationWarning: The truth value of an empty array is ambiguous. Returning False, but in future this will result in an error. Use `array.size > 0` to check that an array is not empty.\n",
      "  if diff:\n",
      "/anaconda3/lib/python3.6/site-packages/sklearn/preprocessing/label.py:151: DeprecationWarning: The truth value of an empty array is ambiguous. Returning False, but in future this will result in an error. Use `array.size > 0` to check that an array is not empty.\n",
      "  if diff:\n",
      "/anaconda3/lib/python3.6/site-packages/sklearn/preprocessing/label.py:151: DeprecationWarning: The truth value of an empty array is ambiguous. Returning False, but in future this will result in an error. Use `array.size > 0` to check that an array is not empty.\n",
      "  if diff:\n"
     ]
    },
    {
     "name": "stdout",
     "output_type": "stream",
     "text": [
      "Accuracy: 0.40 (+/- 0.03) [Ensemble]\n"
     ]
    },
    {
     "name": "stderr",
     "output_type": "stream",
     "text": [
      "/anaconda3/lib/python3.6/site-packages/sklearn/preprocessing/label.py:151: DeprecationWarning: The truth value of an empty array is ambiguous. Returning False, but in future this will result in an error. Use `array.size > 0` to check that an array is not empty.\n",
      "  if diff:\n"
     ]
    }
   ],
   "source": [
    "# Majority Rule (hard) Voting\n",
    "from sklearn.ensemble import VotingClassifier\n",
    "mv_clf = VotingClassifier(estimators=[('KNN', clf1),\n",
    "                                      ('Decision Tree', clf2), \n",
    "                                      ('Kernel SVM', clf3)],\n",
    "                                        voting='hard')\n",
    "\n",
    "for clf, label in zip([clf1,clf2,clf3,mv_clf],\n",
    "                      ['KNN','Decision Tree','Kernel SVM','Ensemble']):\n",
    "    scores = cross_val_score(estimator=clf,\n",
    "                             X=X_train_pca,\n",
    "                             y=y_train,\n",
    "                             cv=10,\n",
    "                             scoring='accuracy')\n",
    "    print(\"Accuracy: %0.2f (+/- %0.2f) [%s]\"\n",
    "          % (scores.mean(), scores.std(), label))"
   ]
  },
  {
   "cell_type": "code",
   "execution_count": 25,
   "metadata": {},
   "outputs": [
    {
     "name": "stderr",
     "output_type": "stream",
     "text": [
      "/anaconda3/lib/python3.6/site-packages/sklearn/preprocessing/label.py:151: DeprecationWarning: The truth value of an empty array is ambiguous. Returning False, but in future this will result in an error. Use `array.size > 0` to check that an array is not empty.\n",
      "  if diff:\n"
     ]
    },
    {
     "data": {
      "text/plain": [
       "0.40941176470588236"
      ]
     },
     "execution_count": 25,
     "metadata": {},
     "output_type": "execute_result"
    }
   ],
   "source": [
    "mv_clf.fit(X_train_pca,y_train)\n",
    "y_pred = mv_clf.predict(X_test_pca)\n",
    "metrics.accuracy_score(y_pred,y_test)"
   ]
  },
  {
   "cell_type": "code",
   "execution_count": null,
   "metadata": {},
   "outputs": [],
   "source": []
  }
 ],
 "metadata": {
  "kernelspec": {
   "display_name": "Python 3",
   "language": "python",
   "name": "python3"
  },
  "language_info": {
   "codemirror_mode": {
    "name": "ipython",
    "version": 3
   },
   "file_extension": ".py",
   "mimetype": "text/x-python",
   "name": "python",
   "nbconvert_exporter": "python",
   "pygments_lexer": "ipython3",
   "version": "3.6.6"
  }
 },
 "nbformat": 4,
 "nbformat_minor": 2
}
